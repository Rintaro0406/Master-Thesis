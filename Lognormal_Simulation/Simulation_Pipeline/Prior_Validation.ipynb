{
 "cells": [
  {
   "cell_type": "markdown",
   "id": "85733dd1-1406-46d6-9ba3-54a3457bc518",
   "metadata": {},
   "source": [
    "# Sample Cosmology from Prior\n",
    "\n",
    "#### This code samples cosmological parameters using Latin Hypercube sampling from a prior range.\n",
    "#### The code is originally built at https://alessiospuriomancini.github.io/cosmopower/ and has been modified for my specific problem.\n",
    "#### Same as Prior_Training.ipynb, it runs independently for independent sampling."
   ]
  },
  {
   "cell_type": "code",
   "execution_count": 1,
   "id": "2c7041ee-e281-4ba8-9015-180c2b422e80",
   "metadata": {},
   "outputs": [],
   "source": [
    "import numpy as np\n",
    "import pyDOE as pyDOE\n",
    "import numpy as np"
   ]
  },
  {
   "cell_type": "code",
   "execution_count": 2,
   "id": "da5cc6c6-e041-41e9-b107-192e93198a59",
   "metadata": {},
   "outputs": [],
   "source": [
    "# number of parameters and samples\n",
    "\n",
    "n_params = 2\n",
    "n_samples = 250\n",
    "\n",
    "# parameter ranges\n",
    "omgM =     np.linspace(0.15,0.45,n_samples)\n",
    "sig8  =     np.linspace(0.5,1.1,n_samples)\n",
    "# LHS grid\n",
    "\n",
    "AllParams = np.vstack([omgM,sig8])\n",
    "lhd = pyDOE.lhs(n_params, samples=n_samples, criterion=None)\n",
    "idx = (lhd * n_samples).astype(int)\n",
    "\n",
    "AllCombinations = np.zeros((n_samples, n_params))\n",
    "for i in range(n_params):\n",
    "    AllCombinations[:, i] = AllParams[i][idx[:, i]]\n",
    "# saving\n",
    "\n",
    "params = {'omega_matter': AllCombinations[:, 0],\n",
    "          'sigma_8': AllCombinations[:, 1],\n",
    "           }\n",
    "\n",
    "#np.savez('/project/ls-gruen/users/r.kanaki/Masterarbeit/Hirosaki_universe/Flask_Validation_New/Hirosaki_LHS_parameter_file_New.npz', **params)"
   ]
  }
 ],
 "metadata": {
  "kernelspec": {
   "display_name": "Python 3",
   "language": "python",
   "name": "python3"
  },
  "language_info": {
   "codemirror_mode": {
    "name": "ipython",
    "version": 3
   },
   "file_extension": ".py",
   "mimetype": "text/x-python",
   "name": "python",
   "nbconvert_exporter": "python",
   "pygments_lexer": "ipython3",
   "version": "3.10.5"
  }
 },
 "nbformat": 4,
 "nbformat_minor": 5
}
